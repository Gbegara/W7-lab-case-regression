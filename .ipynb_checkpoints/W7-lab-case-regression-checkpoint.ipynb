{
 "cells": [
  {
   "cell_type": "code",
   "execution_count": 8,
   "id": "2bc74759",
   "metadata": {},
   "outputs": [],
   "source": [
    "import pandas as pd\n",
    "import numpy as np\n",
    "pd.set_option('display.max_columns', None)\n",
    "import warnings\n",
    "warnings.filterwarnings('ignore')\n",
    "from sklearn.model_selection import cross_val_score\n",
    "from sklearn.model_selection import train_test_split\n",
    "\n",
    "\n",
    "numerical = pd.read_csv('numerical.csv')\n",
    "categorical = pd.read_csv('categorical.csv')\n",
    "targets = pd.read_csv('target.csv')\n",
    "df = pd.concat([numerical, categorical, targets], axis = 1)"
   ]
  },
  {
   "cell_type": "code",
   "execution_count": 10,
   "id": "651caf6f",
   "metadata": {},
   "outputs": [],
   "source": [
    "df= df[df['TARGET_B']!=0].reset_index(drop=True)"
   ]
  },
  {
   "cell_type": "code",
   "execution_count": 12,
   "id": "b195a553",
   "metadata": {},
   "outputs": [],
   "source": [
    "df = df.drop('TARGET_B', axis=1)\n",
    "y = df['TARGET_D']\n",
    "X = df.drop(['TARGET_D'], axis = 1)"
   ]
  },
  {
   "cell_type": "code",
   "execution_count": 13,
   "id": "1cc7eab3",
   "metadata": {},
   "outputs": [],
   "source": [
    "from sklearn.model_selection import train_test_split\n",
    "X_train, X_test, y_train, y_test = train_test_split(X, y, test_size=0.2, random_state=0)"
   ]
  },
  {
   "cell_type": "code",
   "execution_count": 14,
   "id": "4500ff47",
   "metadata": {},
   "outputs": [],
   "source": [
    "numerical_train = X_train.select_dtypes(np.number)\n",
    "categorical_train = X_train.select_dtypes(np.object)\n",
    "numerical_test = X_test.select_dtypes(np.number)\n",
    "categorical_test = X_test.select_dtypes(np.object)\n"
   ]
  },
  {
   "cell_type": "code",
   "execution_count": 15,
   "id": "7f184724",
   "metadata": {},
   "outputs": [],
   "source": [
    "from sklearn.preprocessing import StandardScaler\n",
    "transformer = StandardScaler().fit(numerical_train)\n",
    "scaled_numerical_train = transformer.transform(numerical_train)\n",
    "scaled_numerical_train = pd.DataFrame(scaled_numerical_train, columns = numerical_train.columns)\n",
    "scaled_numerical_test = transformer.transform(numerical_test)\n",
    "scaled_numerical_test = pd.DataFrame(scaled_numerical_test, columns = numerical_test.columns)\n"
   ]
  },
  {
   "cell_type": "code",
   "execution_count": 16,
   "id": "e0c8d20c",
   "metadata": {},
   "outputs": [],
   "source": [
    "from sklearn.preprocessing import OneHotEncoder\n",
    "encoder = OneHotEncoder(drop='first').fit(categorical_train)\n",
    "encoded_categorical_train = encoder.transform(categorical_train).toarray()\n",
    "encoded_categorical_train = pd.DataFrame(encoded_categorical_train)\n",
    "\n",
    "\n",
    "encoded_categorical_test = encoder.transform(categorical_test).toarray()\n",
    "encoded_categorical_test = pd.DataFrame(encoded_categorical_test)\n"
   ]
  },
  {
   "cell_type": "code",
   "execution_count": 17,
   "id": "ba7f549e",
   "metadata": {},
   "outputs": [],
   "source": [
    "X_train = pd.concat([scaled_numerical_train, encoded_categorical_train], axis = 1)\n",
    "X_test = pd.concat([scaled_numerical_test, encoded_categorical_test], axis = 1)"
   ]
  },
  {
   "cell_type": "code",
   "execution_count": 19,
   "id": "06317516",
   "metadata": {},
   "outputs": [
    {
     "name": "stdout",
     "output_type": "stream",
     "text": [
      "{'Decision Tree Regressor': -0.11500120473873794, 'Linear Regression': 0.41178956348257517, 'KNN': 0.08853731895563656}\n"
     ]
    }
   ],
   "source": [
    "from sklearn.tree import DecisionTreeRegressor\n",
    "from sklearn.model_selection import cross_val_score\n",
    "model1 = DecisionTreeRegressor()\n",
    "from sklearn.linear_model import LinearRegression\n",
    "model2 = LinearRegression()\n",
    "from sklearn.neighbors import KNeighborsRegressor\n",
    "model3 = KNeighborsRegressor()\n",
    "\n",
    "import numpy as np\n",
    "\n",
    "model_pipeline = [model1, model2, model3]\n",
    "model_names = ['Decision Tree Regressor', 'Linear Regression', 'KNN']\n",
    "scores = {}\n",
    "for model, model_name in zip(model_pipeline, model_names):\n",
    "    mean_score = np.mean(cross_val_score(model, X_train, y_train, cv=10))\n",
    "    scores[model_name] = mean_score\n",
    "print(scores)"
   ]
  },
  {
   "cell_type": "code",
   "execution_count": 20,
   "id": "d243ee0d",
   "metadata": {},
   "outputs": [
    {
     "data": {
      "text/plain": [
       "[(DecisionTreeRegressor(), 'Decision Tree Regressor'),\n",
       " (LinearRegression(), 'Linear Regression'),\n",
       " (KNeighborsRegressor(), 'KNN')]"
      ]
     },
     "execution_count": 20,
     "metadata": {},
     "output_type": "execute_result"
    }
   ],
   "source": [
    "list(zip(model_pipeline, model_names))"
   ]
  },
  {
   "cell_type": "code",
   "execution_count": 22,
   "id": "e4f4b90c",
   "metadata": {},
   "outputs": [
    {
     "name": "stdout",
     "output_type": "stream",
     "text": [
      "{'Decision Tree Regressor': -0.18251306245526644, 'Linear Regression': 0.2895529501340811, 'KNN': 0.028795169097421636}\n"
     ]
    }
   ],
   "source": [
    "val_scores = {}\n",
    "\n",
    "for model, model_name in zip(model_pipeline,model_names):\n",
    "    model.fit(X_train, y_train)\n",
    "    val_scores[model_name] = model.score(X_test,y_test)\n",
    "print(val_scores)"
   ]
  },
  {
   "cell_type": "markdown",
   "id": "7586e1cc",
   "metadata": {},
   "source": [
    "The only model which predicts with 'some' accuracy is the linear regression model"
   ]
  },
  {
   "cell_type": "code",
   "execution_count": null,
   "id": "ab838ce9",
   "metadata": {},
   "outputs": [],
   "source": []
  }
 ],
 "metadata": {
  "kernelspec": {
   "display_name": "Python 3 (ipykernel)",
   "language": "python",
   "name": "python3"
  },
  "language_info": {
   "codemirror_mode": {
    "name": "ipython",
    "version": 3
   },
   "file_extension": ".py",
   "mimetype": "text/x-python",
   "name": "python",
   "nbconvert_exporter": "python",
   "pygments_lexer": "ipython3",
   "version": "3.9.7"
  }
 },
 "nbformat": 4,
 "nbformat_minor": 5
}
